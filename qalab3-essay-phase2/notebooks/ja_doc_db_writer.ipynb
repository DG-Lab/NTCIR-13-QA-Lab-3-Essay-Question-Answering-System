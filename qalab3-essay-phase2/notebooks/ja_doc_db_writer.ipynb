{
 "cells": [
  {
   "cell_type": "code",
   "execution_count": 1,
   "metadata": {
    "collapsed": true
   },
   "outputs": [],
   "source": [
    "import sqlite3\n",
    "from os import path\n",
    "from zipfile import ZipFile"
   ]
  },
  {
   "cell_type": "code",
   "execution_count": 2,
   "metadata": {
    "collapsed": true
   },
   "outputs": [],
   "source": [
    "DB_PATH = path.join('qalab3-essay-phase2', 'ja_doc.db')\n",
    "conn = sqlite3.connect(DB_PATH)\n",
    "cursor = conn.cursor()\n",
    "cursor.execute('DROP TABLE IF EXISTS ja_docs')\n",
    "cursor.execute('CREATE TABLE ja_docs (doc_no TEXT, doc TEXT)')\n",
    "conn.commit()"
   ]
  },
  {
   "cell_type": "code",
   "execution_count": 3,
   "metadata": {},
   "outputs": [],
   "source": [
    "def write_doc_to_db(zip_file_path, db_cursor, inner_folder_path=None):\n",
    "    subtree = path.splitext(path.basename(zip_file_path))[0]\n",
    "    if inner_folder_path:\n",
    "        subtree = path.join(subtree, inner_folder_path)\n",
    "    with ZipFile(zip_file_path) as z:\n",
    "        namelist = z.namelist()\n",
    "        names = list(filter(lambda x: path.commonpath([subtree, x]) == subtree, namelist))\n",
    "        for filename in names:\n",
    "            info = z.getinfo(filename)\n",
    "            if info.is_dir():\n",
    "                continue\n",
    "            docs = {}\n",
    "            doc_lines = []\n",
    "            with z.open(filename) as f:\n",
    "                is_new_doc = False\n",
    "                doc_id = None\n",
    "                for line in f:\n",
    "                    line = line.decode('UTF-8')\n",
    "                    doc_lines.append(line)\n",
    "                    stripped_line = line.strip()\n",
    "                    if stripped_line == '</DOC>':\n",
    "                        is_new_doc = True\n",
    "                        if len(doc_lines) > 0:\n",
    "                            if not doc_id:\n",
    "                                doc_id = filename.replace('.txt', '')\n",
    "                            docs[doc_id] = ''.join(doc_lines)\n",
    "                            doc_lines = []\n",
    "                    elif stripped_line.startswith('<DOCNO>'):\n",
    "                        doc_id = stripped_line.replace('<DOCNO>', '').replace('</DOCNO>', '').strip()\n",
    "                        doc_id = doc_id.replace('2部 ユーラシア諸地域の交流と再', '2')\n",
    "            batch = [(doc_no, doc) for doc_no, doc in docs.items()]\n",
    "            db_cursor.executemany('INSERT INTO ja_docs (doc_no, doc) VALUES (?, ?)', batch)"
   ]
  },
  {
   "cell_type": "code",
   "execution_count": 4,
   "metadata": {},
   "outputs": [],
   "source": [
    "write_doc_to_db('qalab3-essay-phase2/_references/training_set/qalab3-ja-knowledgesource/'\n",
    "                'qalab3-ja-knowledgesource/make-index-Tokyoshoseki.zip',\n",
    "                cursor,\n",
    "                'tokyoshoseki-newxml')\n",
    "conn.commit()"
   ]
  },
  {
   "cell_type": "code",
   "execution_count": 6,
   "metadata": {
    "collapsed": true
   },
   "outputs": [],
   "source": [
    "write_doc_to_db('qalab3-essay-phase2/_references/training_set/qalab3-ja-knowledgesource/'\n",
    "                'qalab3-ja-knowledgesource/make-index-Yamakawa.zip',\n",
    "                cursor,\n",
    "                'yamakawa-Sekaishi-newxml')\n",
    "conn.commit()"
   ]
  },
  {
   "cell_type": "code",
   "execution_count": 9,
   "metadata": {},
   "outputs": [],
   "source": [
    "write_doc_to_db('qalab3-essay-phase2/_references/training_set/jawiki-100M-newxml.zip',\n",
    "                cursor)\n",
    "conn.commit()"
   ]
  },
  {
   "cell_type": "code",
   "execution_count": 7,
   "metadata": {},
   "outputs": [],
   "source": [
    "conn.close()"
   ]
  },
  {
   "cell_type": "code",
   "execution_count": null,
   "metadata": {},
   "outputs": [],
   "source": [
    ""
   ]
  }
 ],
 "metadata": {
  "kernelspec": {
   "display_name": "Python 3",
   "language": "python",
   "name": "python3"
  },
  "language_info": {
   "codemirror_mode": {
    "name": "ipython",
    "version": 3.0
   },
   "file_extension": ".py",
   "mimetype": "text/x-python",
   "name": "python",
   "nbconvert_exporter": "python",
   "pygments_lexer": "ipython3",
   "version": "3.6.1"
  }
 },
 "nbformat": 4,
 "nbformat_minor": 0
}