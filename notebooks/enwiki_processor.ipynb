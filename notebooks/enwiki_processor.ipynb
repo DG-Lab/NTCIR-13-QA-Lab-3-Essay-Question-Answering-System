{
 "cells": [
  {
   "cell_type": "code",
   "execution_count": 18,
   "metadata": {
    "collapsed": true
   },
   "outputs": [],
   "source": [
    "from os import mkdir, path\n",
    "from pandas import read_csv\n",
    "import sqlite3\n",
    "from subprocess import Popen, PIPE"
   ]
  },
  {
   "cell_type": "code",
   "execution_count": 2,
   "metadata": {
    "collapsed": true
   },
   "outputs": [],
   "source": [
    "TREC_TEXT_TEMPLATE = (\n",
    "    '<DOC>\\n'\n",
    "    '<DOCNO>{}</DOCNO>\\n'\n",
    "    '<Title>{}</Title>\\n'\n",
    "    '<TEXT>\\n'\n",
    "    '{}\\n'\n",
    "    '</TEXT>\\n'\n",
    "    '</DOC>\\n')\n",
    "\n",
    "\n",
    "def build_trec_text(serial, title, text):\n",
    "    return TREC_TEXT_TEMPLATE.format(serial, title, text)\n",
    "\n",
    "\n",
    "def tokenize(text):\n",
    "    with Popen(['java', 'edu.stanford.nlp.process.PTBTokenizer', '-preserveLines'],\n",
    "               stdin=PIPE, stdout=PIPE, stderr=PIPE) as tokenizer_proc:\n",
    "        out, err = tokenizer_proc.communicate(input=text.encode('UTF-8'))\n",
    "        return out.decode('UTF-8')\n",
    "\n",
    "\n",
    "TOKENIZED_OUTPUT_DIR = 'qalab3-essay-phase2/enwiki_doc_by_id-tokenized/'\n",
    "if not path.isdir(TOKENIZED_OUTPUT_DIR):\n",
    "    mkdir(TOKENIZED_OUTPUT_DIR)\n",
    "\n",
    "\n",
    "def write_files(doc_set):\n",
    "    for serial, doc in doc_set.items():\n",
    "        with open(doc['filepath'], 'w') as f:\n",
    "            f.write(doc['trec_text'])"
   ]
  },
  {
   "cell_type": "code",
   "execution_count": 8,
   "metadata": {},
   "outputs": [],
   "source": [
    "def write_to_db(doc_set, db_cursor):\n",
    "    batch = [(doc_no, doc['trec_text']) for doc_no, doc in doc_set.items()]\n",
    "    db_cursor.executemany('INSERT INTO en_docs (doc_no, doc) VALUES (?, ?)', batch)"
   ]
  },
  {
   "cell_type": "code",
   "execution_count": 5,
   "metadata": {},
   "outputs": [],
   "source": [
    "df = read_csv('qalab3-essay-phase2/_references/training_set/enwiki_dump.csv.bz2', compression='bz2')"
   ]
  },
  {
   "cell_type": "code",
   "execution_count": 6,
   "metadata": {},
   "outputs": [],
   "source": [
    "docs = {}\n",
    "for row in zip(df['Title'], df['Text'], df['ID']):\n",
    "    title = row[0].replace('\\\\n', '\\n').replace('\\,', ',').strip()\n",
    "    text = row[1].replace('\\\\n', '\\n').replace('\\,', ',').strip()\n",
    "    serial = 'enwiki-{}'.format(row[2])\n",
    "    trec_text = build_trec_text(serial, title, text)\n",
    "    docs[serial] = {'trec_text': trec_text, 'title': title, 'text': text}\n",
    "del df"
   ]
  },
  {
   "cell_type": "code",
   "execution_count": 9,
   "metadata": {
    "collapsed": true
   },
   "outputs": [],
   "source": [
    "DB_PATH = path.join('qalab3-essay-phase2', 'en_doc.db')\n",
    "conn = sqlite3.connect(DB_PATH)\n",
    "cursor = conn.cursor()\n",
    "cursor.execute('DROP TABLE IF EXISTS en_docs')\n",
    "cursor.execute('CREATE TABLE en_docs (doc_no TEXT, doc TEXT)')\n",
    "conn.commit()\n",
    "write_to_db(docs, cursor)\n",
    "conn.commit()\n",
    "conn.close()"
   ]
  },
  {
   "cell_type": "code",
   "execution_count": null,
   "metadata": {},
   "outputs": [
    {
     "name": "stdout",
     "output_type": "stream",
     "text": [
      "tokenizing 11217 docs...\n",
      "tokenized 11200/11217 docs\r"
     ]
    }
   ],
   "source": [
    "tokenized_docs = {}\n",
    "total = len(docs)\n",
    "count = 0\n",
    "print('tokenizing {} docs...'.format(total))\n",
    "for serial, doc in docs.items():\n",
    "    tokenized_title = tokenize(doc['title'])\n",
    "    tokenized_text = tokenize(doc['text'])\n",
    "    tokenized_trec_text = build_trec_text(serial, tokenized_title, tokenized_text)\n",
    "    filepath = path.join(TOKENIZED_OUTPUT_DIR, '{}-seg.xml'.format(serial))\n",
    "    tokenized_docs[serial] = {'trec_text': tokenized_trec_text, 'filepath': filepath}\n",
    "    count += 1\n",
    "    if count % 100 == 0 or count == total:\n",
    "        print('tokenized {}/{} docs'.format(count, total), end='\\r')\n",
    "del docs"
   ]
  },
  {
   "cell_type": "code",
   "execution_count": null,
   "metadata": {
    "collapsed": true
   },
   "outputs": [],
   "source": [
    "write_files(tokenized_docs)"
   ]
  }
 ],
 "metadata": {
  "kernelspec": {
   "display_name": "Python 3",
   "language": "python",
   "name": "python3"
  },
  "language_info": {
   "codemirror_mode": {
    "name": "ipython",
    "version": 3.0
   },
   "file_extension": ".py",
   "mimetype": "text/x-python",
   "name": "python",
   "nbconvert_exporter": "python",
   "pygments_lexer": "ipython3",
   "version": "3.6.1"
  }
 },
 "nbformat": 4,
 "nbformat_minor": 0
}